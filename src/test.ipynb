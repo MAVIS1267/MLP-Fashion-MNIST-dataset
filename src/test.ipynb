{
 "cells": [
  {
   "cell_type": "markdown",
   "metadata": {},
   "source": [
    "---\n",
    "# First way to get the data: using urllib"
   ]
  },
  {
   "cell_type": "code",
   "execution_count": null,
   "metadata": {},
   "outputs": [
    {
     "name": "stdout",
     "output_type": "stream",
     "text": [
      "Downloadingtrain-images-idx3-ubyte.gz...\n",
      "Downloadingtrain-labels-idx1-ubyte.gz...\n",
      "Downloadingt10k-images-idx3-ubyte.gz...\n",
      "Downloadingt10k-labels-idx1-ubyte.gz...\n",
      "Download complete.\n"
     ]
    }
   ],
   "source": [
    "\"\"\"\n",
    "Download the dataset from the Fashion-MNIST repo\n",
    "- filenames: list of 4 filenames to download\n",
    "- folder: path to the folder to save the files\n",
    "- base_url: base URL for the Data files\n",
    "\"\"\"\n",
    "\n",
    "from urllib import request\n",
    "\n",
    "filenames = [\"train-images-idx3-ubyte.gz\", \"train-labels-idx1-ubyte.gz\", \"t10k-images-idx3-ubyte.gz\", \"t10k-labels-idx1-ubyte.gz\"]\n",
    "folder = \"../data_fashion_mnist/\"\n",
    "base_url = \"http://fashion-mnist.s3-website.eu-central-1.amazonaws.com/\"\n",
    "for name in filenames:\n",
    "    print(\"Downloading\" + name + \"...\")\n",
    "\n",
    "    request.urlretrieve(base_url + name, folder + name)\n",
    "\n",
    "print(\"Download complete.\")"
   ]
  },
  {
   "cell_type": "code",
   "execution_count": 6,
   "metadata": {},
   "outputs": [],
   "source": [
    "import gzip\n",
    "import numpy as np\n",
    "\n",
    "with gzip.open('../data_fashion_mnist/train-images-idx3-ubyte.gz', 'rb') as f:\n",
    "    X_train = np.frombuffer(f.read(), np.uint8, offset=16).reshape(-1, 28, 28)\n",
    "\n",
    "with gzip.open('../data_fashion_mnist/t10k-images-idx3-ubyte.gz', 'rb') as f:\n",
    "    X_test = np.frombuffer(f.read(), np.uint8, offset=16).reshape(-1, 28, 28)\n",
    "\n",
    "with gzip.open('../data_fashion_mnist/train-labels-idx1-ubyte.gz', 'rb') as f:\n",
    "    y_train = np.frombuffer(f.read(), np.uint8, offset=8)\n",
    "with gzip.open('../data_fashion_mnist/t10k-labels-idx1-ubyte.gz', 'rb') as f:\n",
    "    y_test = np.frombuffer(f.read(), np.uint8, offset=8)"
   ]
  },
  {
   "cell_type": "markdown",
   "metadata": {},
   "source": [
    "---\n",
    "# Second way to get the data: using torchvision"
   ]
  },
  {
   "cell_type": "code",
   "execution_count": 20,
   "metadata": {},
   "outputs": [
    {
     "name": "stdout",
     "output_type": "stream",
     "text": [
      "Batch 0 -- torch.Size([1024, 1, 28, 28]) -- torch.Size([1024])\n",
      "Batch 1 -- torch.Size([1024, 1, 28, 28]) -- torch.Size([1024])\n",
      "Batch 2 -- torch.Size([1024, 1, 28, 28]) -- torch.Size([1024])\n",
      "Batch 3 -- torch.Size([1024, 1, 28, 28]) -- torch.Size([1024])\n",
      "Batch 4 -- torch.Size([1024, 1, 28, 28]) -- torch.Size([1024])\n",
      "Batch 5 -- torch.Size([1024, 1, 28, 28]) -- torch.Size([1024])\n",
      "Batch 6 -- torch.Size([1024, 1, 28, 28]) -- torch.Size([1024])\n",
      "Batch 7 -- torch.Size([1024, 1, 28, 28]) -- torch.Size([1024])\n",
      "Batch 8 -- torch.Size([1024, 1, 28, 28]) -- torch.Size([1024])\n",
      "Batch 9 -- torch.Size([1024, 1, 28, 28]) -- torch.Size([1024])\n",
      "Batch 10 -- torch.Size([1024, 1, 28, 28]) -- torch.Size([1024])\n",
      "Batch 11 -- torch.Size([1024, 1, 28, 28]) -- torch.Size([1024])\n",
      "Batch 12 -- torch.Size([1024, 1, 28, 28]) -- torch.Size([1024])\n",
      "Batch 13 -- torch.Size([1024, 1, 28, 28]) -- torch.Size([1024])\n",
      "Batch 14 -- torch.Size([1024, 1, 28, 28]) -- torch.Size([1024])\n",
      "Batch 15 -- torch.Size([1024, 1, 28, 28]) -- torch.Size([1024])\n",
      "Batch 16 -- torch.Size([1024, 1, 28, 28]) -- torch.Size([1024])\n",
      "Batch 17 -- torch.Size([1024, 1, 28, 28]) -- torch.Size([1024])\n",
      "Batch 18 -- torch.Size([1024, 1, 28, 28]) -- torch.Size([1024])\n",
      "Batch 19 -- torch.Size([1024, 1, 28, 28]) -- torch.Size([1024])\n",
      "Batch 20 -- torch.Size([1024, 1, 28, 28]) -- torch.Size([1024])\n",
      "Batch 21 -- torch.Size([1024, 1, 28, 28]) -- torch.Size([1024])\n",
      "Batch 22 -- torch.Size([1024, 1, 28, 28]) -- torch.Size([1024])\n",
      "Batch 23 -- torch.Size([1024, 1, 28, 28]) -- torch.Size([1024])\n",
      "Batch 24 -- torch.Size([1024, 1, 28, 28]) -- torch.Size([1024])\n",
      "Batch 25 -- torch.Size([1024, 1, 28, 28]) -- torch.Size([1024])\n",
      "Batch 26 -- torch.Size([1024, 1, 28, 28]) -- torch.Size([1024])\n",
      "Batch 27 -- torch.Size([1024, 1, 28, 28]) -- torch.Size([1024])\n",
      "Batch 28 -- torch.Size([1024, 1, 28, 28]) -- torch.Size([1024])\n",
      "Batch 29 -- torch.Size([1024, 1, 28, 28]) -- torch.Size([1024])\n",
      "Batch 30 -- torch.Size([1024, 1, 28, 28]) -- torch.Size([1024])\n",
      "Batch 31 -- torch.Size([1024, 1, 28, 28]) -- torch.Size([1024])\n",
      "Batch 32 -- torch.Size([1024, 1, 28, 28]) -- torch.Size([1024])\n",
      "Batch 33 -- torch.Size([1024, 1, 28, 28]) -- torch.Size([1024])\n",
      "Batch 34 -- torch.Size([1024, 1, 28, 28]) -- torch.Size([1024])\n",
      "Batch 35 -- torch.Size([1024, 1, 28, 28]) -- torch.Size([1024])\n",
      "Batch 36 -- torch.Size([1024, 1, 28, 28]) -- torch.Size([1024])\n",
      "Batch 37 -- torch.Size([1024, 1, 28, 28]) -- torch.Size([1024])\n",
      "Batch 38 -- torch.Size([1024, 1, 28, 28]) -- torch.Size([1024])\n",
      "Batch 39 -- torch.Size([1024, 1, 28, 28]) -- torch.Size([1024])\n",
      "Batch 40 -- torch.Size([1024, 1, 28, 28]) -- torch.Size([1024])\n",
      "Batch 41 -- torch.Size([1024, 1, 28, 28]) -- torch.Size([1024])\n",
      "Batch 42 -- torch.Size([1024, 1, 28, 28]) -- torch.Size([1024])\n",
      "Batch 43 -- torch.Size([1024, 1, 28, 28]) -- torch.Size([1024])\n",
      "Batch 44 -- torch.Size([1024, 1, 28, 28]) -- torch.Size([1024])\n",
      "Batch 45 -- torch.Size([1024, 1, 28, 28]) -- torch.Size([1024])\n",
      "Batch 46 -- torch.Size([1024, 1, 28, 28]) -- torch.Size([1024])\n",
      "Batch 47 -- torch.Size([1024, 1, 28, 28]) -- torch.Size([1024])\n",
      "Batch 48 -- torch.Size([1024, 1, 28, 28]) -- torch.Size([1024])\n",
      "Batch 49 -- torch.Size([1024, 1, 28, 28]) -- torch.Size([1024])\n",
      "Batch 50 -- torch.Size([1024, 1, 28, 28]) -- torch.Size([1024])\n",
      "Batch 51 -- torch.Size([1024, 1, 28, 28]) -- torch.Size([1024])\n",
      "Batch 52 -- torch.Size([1024, 1, 28, 28]) -- torch.Size([1024])\n",
      "Batch 53 -- torch.Size([1024, 1, 28, 28]) -- torch.Size([1024])\n",
      "Batch 54 -- torch.Size([1024, 1, 28, 28]) -- torch.Size([1024])\n",
      "Batch 55 -- torch.Size([1024, 1, 28, 28]) -- torch.Size([1024])\n",
      "Batch 56 -- torch.Size([1024, 1, 28, 28]) -- torch.Size([1024])\n",
      "Batch 57 -- torch.Size([1024, 1, 28, 28]) -- torch.Size([1024])\n",
      "Batch 58 -- torch.Size([608, 1, 28, 28]) -- torch.Size([608])\n"
     ]
    }
   ],
   "source": [
    "\"\"\"\n",
    "\n",
    "\"\"\"\n",
    "\n",
    "from torchvision.datasets import FashionMNIST\n",
    "from torchvision import transforms\n",
    "from torch.utils.data import DataLoader\n",
    "\n",
    "transform = transforms.Compose([transforms.ToTensor()]) # transform the images to tensors, normalize in range [0, 1]\n",
    "trainset = FashionMNIST(root=\"../data_fashion_mnist/\", train=True, download=True, transform=transform)\n",
    "trainloader = DataLoader(\n",
    "    trainset, batch_size=1024, num_workers=4, shuffle=True)\n",
    "\n",
    "for i, (inputs, labels) in enumerate(trainloader, 0):\n",
    "    print(f'Batch {i} -- {inputs.shape} -- {labels.shape}')\n"
   ]
  },
  {
   "cell_type": "code",
   "execution_count": null,
   "metadata": {},
   "outputs": [],
   "source": []
  },
  {
   "cell_type": "code",
   "execution_count": null,
   "metadata": {},
   "outputs": [],
   "source": []
  }
 ],
 "metadata": {
  "kernelspec": {
   "display_name": ".venv",
   "language": "python",
   "name": "python3"
  },
  "language_info": {
   "codemirror_mode": {
    "name": "ipython",
    "version": 3
   },
   "file_extension": ".py",
   "mimetype": "text/x-python",
   "name": "python",
   "nbconvert_exporter": "python",
   "pygments_lexer": "ipython3",
   "version": "3.11.11"
  }
 },
 "nbformat": 4,
 "nbformat_minor": 2
}
